{
  "nbformat": 4,
  "nbformat_minor": 0,
  "metadata": {
    "colab": {
      "provenance": [],
      "authorship_tag": "ABX9TyMKNVGQKlARlnhHMmD3PhMm",
      "include_colab_link": true
    },
    "kernelspec": {
      "name": "python3",
      "display_name": "Python 3"
    },
    "language_info": {
      "name": "python"
    }
  },
  "cells": [
    {
      "cell_type": "markdown",
      "metadata": {
        "id": "view-in-github",
        "colab_type": "text"
      },
      "source": [
        "<a href=\"https://colab.research.google.com/github/Alehandro26rus/Example001_HelloConsole/blob/main/Untitled0.ipynb\" target=\"_parent\"><img src=\"https://colab.research.google.com/assets/colab-badge.svg\" alt=\"Open In Colab\"/></a>"
      ]
    },
    {
      "cell_type": "markdown",
      "source": [
        "# Промежуточная итоговая аттестация\n",
        "\n",
        "---\n",
        "\n",
        "\n",
        "## Задача 44\n",
        " В ячейке ниже представлен код генерирующий DataFrame, которая состоит всего из 1 столбца. Задача - перевести его в one hot вид. Cделать это нужно без get_dummies."
      ],
      "metadata": {
        "id": "PVT0IlBd0blg"
      }
    },
    {
      "cell_type": "code",
      "execution_count": 1,
      "metadata": {
        "colab": {
          "base_uri": "https://localhost:8080/"
        },
        "id": "A11VppT06It2",
        "outputId": "a240ed95-73a3-46f4-fdb2-64e194676e7a"
      },
      "outputs": [
        {
          "output_type": "stream",
          "name": "stdout",
          "text": [
            "   whoAmI\n",
            "0   robot\n",
            "1   robot\n",
            "2   human\n",
            "3   human\n",
            "4   human\n",
            "5   robot\n",
            "6   robot\n",
            "7   robot\n",
            "8   human\n",
            "9   human\n",
            "10  human\n",
            "11  human\n",
            "12  robot\n",
            "13  robot\n",
            "14  robot\n",
            "15  human\n",
            "16  human\n",
            "17  robot\n",
            "18  human\n",
            "19  robot\n",
            "\n",
            "    robot  human\n",
            "0       1      0\n",
            "1       1      0\n",
            "2       0      1\n",
            "3       0      1\n",
            "4       0      1\n",
            "5       1      0\n",
            "6       1      0\n",
            "7       1      0\n",
            "8       0      1\n",
            "9       0      1\n",
            "10      0      1\n",
            "11      0      1\n",
            "12      1      0\n",
            "13      1      0\n",
            "14      1      0\n",
            "15      0      1\n",
            "16      0      1\n",
            "17      1      0\n",
            "18      0      1\n",
            "19      1      0\n"
          ]
        }
      ],
      "source": [
        "import pandas as pd\n",
        "import random\n",
        "\n",
        "lst = ['robot'] * 10\n",
        "lst += ['human'] * 10\n",
        "random.shuffle(lst)\n",
        "data = pd.DataFrame({'whoAmI': lst})\n",
        "print(data)\n",
        "print()\n",
        "\n",
        "#==================================================#\n",
        "data.loc[data['whoAmI'] == 'robot', ['robot']] =  1\n",
        "data.loc[data['whoAmI'] == 'human', ['robot']] =  0\n",
        "data['robot'] = data['robot'].astype('int')\n",
        "data.loc[data['whoAmI'] == 'robot', ['human']] =  0\n",
        "data.loc[data['whoAmI'] == 'human', ['human']] =  1\n",
        "data['human'] = data['human'].astype('int')\n",
        "data = data.drop(['whoAmI'], axis = 1)\n",
        "print(data)"
      ]
    }
  ]
}