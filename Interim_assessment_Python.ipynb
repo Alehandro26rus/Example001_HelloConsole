{
  "nbformat": 4,
  "nbformat_minor": 0,
  "metadata": {
    "colab": {
      "provenance": [],
      "authorship_tag": "ABX9TyMoY+8AJLoAh+ZwieZLIfgq",
      "include_colab_link": true
    },
    "kernelspec": {
      "name": "python3",
      "display_name": "Python 3"
    },
    "language_info": {
      "name": "python"
    }
  },
  "cells": [
    {
      "cell_type": "markdown",
      "metadata": {
        "id": "view-in-github",
        "colab_type": "text"
      },
      "source": [
        "<a href=\"https://colab.research.google.com/github/Alehandro26rus/Example001_HelloConsole/blob/main/Interim_assessment_Python.ipynb\" target=\"_parent\"><img src=\"https://colab.research.google.com/assets/colab-badge.svg\" alt=\"Open In Colab\"/></a>"
      ]
    },
    {
      "cell_type": "markdown",
      "source": [
        "# Промежуточная итоговая аттестация\n",
        "\n",
        "---\n",
        "\n",
        "\n",
        "## Задача 44\n",
        " В ячейке ниже представлен код генерирующий DataFrame, которая состоит всего из 1 столбца. Задача - перевести его в one hot вид. Cделать это нужно без get_dummies."
      ],
      "metadata": {
        "id": "PVT0IlBd0blg"
      }
    },
    {
      "cell_type": "code",
      "execution_count": 2,
      "metadata": {
        "colab": {
          "base_uri": "https://localhost:8080/"
        },
        "id": "A11VppT06It2",
        "outputId": "1ff99159-2816-466c-f365-ccb4c8a40051"
      },
      "outputs": [
        {
          "output_type": "stream",
          "name": "stdout",
          "text": [
            "   whoAmI\n",
            "0   human\n",
            "1   robot\n",
            "2   robot\n",
            "3   robot\n",
            "4   human\n",
            "5   human\n",
            "6   human\n",
            "7   robot\n",
            "8   robot\n",
            "9   human\n",
            "10  human\n",
            "11  robot\n",
            "12  robot\n",
            "13  robot\n",
            "14  human\n",
            "15  human\n",
            "16  robot\n",
            "17  human\n",
            "18  human\n",
            "19  robot\n",
            "\n",
            "    robot  human\n",
            "0       0      1\n",
            "1       1      0\n",
            "2       1      0\n",
            "3       1      0\n",
            "4       0      1\n",
            "5       0      1\n",
            "6       0      1\n",
            "7       1      0\n",
            "8       1      0\n",
            "9       0      1\n",
            "10      0      1\n",
            "11      1      0\n",
            "12      1      0\n",
            "13      1      0\n",
            "14      0      1\n",
            "15      0      1\n",
            "16      1      0\n",
            "17      0      1\n",
            "18      0      1\n",
            "19      1      0\n"
          ]
        }
      ],
      "source": [
        "import pandas as pd\n",
        "import random\n",
        "\n",
        "lst = ['robot'] * 10\n",
        "lst += ['human'] * 10\n",
        "random.shuffle(lst)\n",
        "data = pd.DataFrame({'whoAmI': lst})\n",
        "print(data)\n",
        "print()\n",
        "\n",
        "#==================================================#\n",
        "data.loc[data['whoAmI'] == 'robot', ['robot']] =  1\n",
        "data.loc[data['whoAmI'] == 'human', ['robot']] =  0\n",
        "\n",
        "data['robot'] = data['robot'].astype('int')\n",
        "\n",
        "data.loc[data['whoAmI'] == 'robot', ['human']] =  0\n",
        "data.loc[data['whoAmI'] == 'human', ['human']] =  1\n",
        "\n",
        "data['human'] = data['human'].astype('int')\n",
        "\n",
        "data = data.drop(['whoAmI'], axis = 1)\n",
        "print(data)"
      ]
    },
    {
      "cell_type": "markdown",
      "source": [
        "Еще один вариант решения:"
      ],
      "metadata": {
        "id": "jWqTv-mK2_GQ"
      }
    },
    {
      "cell_type": "code",
      "source": [
        "data['tmp'] = 1\n",
        "data.set_index([data.index, 'whoAmI'], inplace=True)\n",
        "data = data.unstack(level=-1, fill_value = 0).astype(int)\n",
        "data.columns = data.columns.droplevel()\n",
        "data.columns.name = None\n",
        "print(data)"
      ],
      "metadata": {
        "id": "REJX5nD-3CVC"
      },
      "execution_count": null,
      "outputs": []
    }
  ]
}